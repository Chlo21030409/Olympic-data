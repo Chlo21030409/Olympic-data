{
 "cells": [
  {
   "cell_type": "markdown",
   "id": "a912d7c8",
   "metadata": {
    "scrolled": true
   },
   "source": [
    "# Olympic Data Analysis"
   ]
  },
  {
   "cell_type": "markdown",
   "id": "16360ff6",
   "metadata": {},
   "source": [
    "This data is available on Kaggle at: https://www.kaggle.com/datasets/heesoo37/120-years-of-olympic-history-athletes-and-results\n"
   ]
  },
  {
   "cell_type": "markdown",
   "id": "8a36aabd",
   "metadata": {},
   "source": [
    "Metadata/data dictionary\n",
    "\n",
    "The file athlete_events.csv contains 271116 rows and 15 columns. Each row corresponds to an individual athlete competing in an individual Olympic event (athlete-events). The columns are:\n",
    "\n",
    "- ID - Unique number for each athlete\n",
    "Name - Athlete's name\n",
    "Sex - M or F\n",
    "Age - Integer\n",
    "Height - In centimeters\n",
    "Weight - In kilograms\n",
    "Team - Team name\n",
    "NOC - National Olympic Committee 3-letter code\n",
    "Games - Year and season\n",
    "Year - Integer\n",
    "Season - Summer or Winter\n",
    "City - Host city\n",
    "Sport - Sport\n",
    "Event - Event\n",
    "Medal - Gold, Silver, Bronze, or NA"
   ]
  },
  {
   "cell_type": "markdown",
   "id": "4c85629d",
   "metadata": {},
   "source": [
    "Remove warnings"
   ]
  },
  {
   "cell_type": "code",
   "execution_count": 1,
   "id": "daf7884c",
   "metadata": {},
   "outputs": [],
   "source": [
    "import warnings \n",
    "warnings.filterwarnings('ignore') \n"
   ]
  },
  {
   "cell_type": "markdown",
   "id": "e609dffc",
   "metadata": {},
   "source": [
    "Import Packages"
   ]
  },
  {
   "cell_type": "code",
   "execution_count": 2,
   "id": "5adb941a",
   "metadata": {},
   "outputs": [
    {
     "name": "stderr",
     "output_type": "stream",
     "text": [
      "\n",
      "A module that was compiled using NumPy 1.x cannot be run in\n",
      "NumPy 2.0.1 as it may crash. To support both 1.x and 2.x\n",
      "versions of NumPy, modules must be compiled with NumPy 2.0.\n",
      "Some module may need to rebuild instead e.g. with 'pybind11>=2.12'.\n",
      "\n",
      "If you are a user of the module, the easiest solution will be to\n",
      "downgrade to 'numpy<2' or try to upgrade the affected module.\n",
      "We expect that some modules will need time to support NumPy 2.\n",
      "\n",
      "Traceback (most recent call last):  File \"/Users/chloe/opt/anaconda3/lib/python3.9/runpy.py\", line 197, in _run_module_as_main\n",
      "    return _run_code(code, main_globals, None,\n",
      "  File \"/Users/chloe/opt/anaconda3/lib/python3.9/runpy.py\", line 87, in _run_code\n",
      "    exec(code, run_globals)\n",
      "  File \"/Users/chloe/opt/anaconda3/lib/python3.9/site-packages/ipykernel_launcher.py\", line 16, in <module>\n",
      "    app.launch_new_instance()\n",
      "  File \"/Users/chloe/opt/anaconda3/lib/python3.9/site-packages/traitlets/config/application.py\", line 846, in launch_instance\n",
      "    app.start()\n",
      "  File \"/Users/chloe/opt/anaconda3/lib/python3.9/site-packages/ipykernel/kernelapp.py\", line 677, in start\n",
      "    self.io_loop.start()\n",
      "  File \"/Users/chloe/opt/anaconda3/lib/python3.9/site-packages/tornado/platform/asyncio.py\", line 199, in start\n",
      "    self.asyncio_loop.run_forever()\n",
      "  File \"/Users/chloe/opt/anaconda3/lib/python3.9/asyncio/base_events.py\", line 601, in run_forever\n",
      "    self._run_once()\n",
      "  File \"/Users/chloe/opt/anaconda3/lib/python3.9/asyncio/base_events.py\", line 1905, in _run_once\n",
      "    handle._run()\n",
      "  File \"/Users/chloe/opt/anaconda3/lib/python3.9/asyncio/events.py\", line 80, in _run\n",
      "    self._context.run(self._callback, *self._args)\n",
      "  File \"/Users/chloe/opt/anaconda3/lib/python3.9/site-packages/ipykernel/kernelbase.py\", line 471, in dispatch_queue\n",
      "    await self.process_one()\n",
      "  File \"/Users/chloe/opt/anaconda3/lib/python3.9/site-packages/ipykernel/kernelbase.py\", line 460, in process_one\n",
      "    await dispatch(*args)\n",
      "  File \"/Users/chloe/opt/anaconda3/lib/python3.9/site-packages/ipykernel/kernelbase.py\", line 367, in dispatch_shell\n",
      "    await result\n",
      "  File \"/Users/chloe/opt/anaconda3/lib/python3.9/site-packages/ipykernel/kernelbase.py\", line 662, in execute_request\n",
      "    reply_content = await reply_content\n",
      "  File \"/Users/chloe/opt/anaconda3/lib/python3.9/site-packages/ipykernel/ipkernel.py\", line 360, in do_execute\n",
      "    res = shell.run_cell(code, store_history=store_history, silent=silent)\n",
      "  File \"/Users/chloe/opt/anaconda3/lib/python3.9/site-packages/ipykernel/zmqshell.py\", line 532, in run_cell\n",
      "    return super().run_cell(*args, **kwargs)\n",
      "  File \"/Users/chloe/opt/anaconda3/lib/python3.9/site-packages/IPython/core/interactiveshell.py\", line 2863, in run_cell\n",
      "    result = self._run_cell(\n",
      "  File \"/Users/chloe/opt/anaconda3/lib/python3.9/site-packages/IPython/core/interactiveshell.py\", line 2909, in _run_cell\n",
      "    return runner(coro)\n",
      "  File \"/Users/chloe/opt/anaconda3/lib/python3.9/site-packages/IPython/core/async_helpers.py\", line 129, in _pseudo_sync_runner\n",
      "    coro.send(None)\n",
      "  File \"/Users/chloe/opt/anaconda3/lib/python3.9/site-packages/IPython/core/interactiveshell.py\", line 3106, in run_cell_async\n",
      "    has_raised = await self.run_ast_nodes(code_ast.body, cell_name,\n",
      "  File \"/Users/chloe/opt/anaconda3/lib/python3.9/site-packages/IPython/core/interactiveshell.py\", line 3309, in run_ast_nodes\n",
      "    if await self.run_code(code, result, async_=asy):\n",
      "  File \"/Users/chloe/opt/anaconda3/lib/python3.9/site-packages/IPython/core/interactiveshell.py\", line 3369, in run_code\n",
      "    exec(code_obj, self.user_global_ns, self.user_ns)\n",
      "  File \"/var/folders/ng/3dbtj71s4j1_26x8pjh3syfw0000gn/T/ipykernel_64862/1624849881.py\", line 2, in <cell line: 2>\n",
      "    import pandas as pd\n",
      "  File \"/Users/chloe/opt/anaconda3/lib/python3.9/site-packages/pandas/__init__.py\", line 49, in <module>\n",
      "    from pandas.core.api import (\n",
      "  File \"/Users/chloe/opt/anaconda3/lib/python3.9/site-packages/pandas/core/api.py\", line 28, in <module>\n",
      "    from pandas.core.arrays import Categorical\n",
      "  File \"/Users/chloe/opt/anaconda3/lib/python3.9/site-packages/pandas/core/arrays/__init__.py\", line 1, in <module>\n",
      "    from pandas.core.arrays.arrow import ArrowExtensionArray\n",
      "  File \"/Users/chloe/opt/anaconda3/lib/python3.9/site-packages/pandas/core/arrays/arrow/__init__.py\", line 5, in <module>\n",
      "    from pandas.core.arrays.arrow.array import ArrowExtensionArray\n",
      "  File \"/Users/chloe/opt/anaconda3/lib/python3.9/site-packages/pandas/core/arrays/arrow/array.py\", line 50, in <module>\n",
      "    from pandas.core import (\n",
      "  File \"/Users/chloe/opt/anaconda3/lib/python3.9/site-packages/pandas/core/ops/__init__.py\", line 8, in <module>\n",
      "    from pandas.core.ops.array_ops import (\n",
      "  File \"/Users/chloe/opt/anaconda3/lib/python3.9/site-packages/pandas/core/ops/array_ops.py\", line 56, in <module>\n",
      "    from pandas.core.computation import expressions\n",
      "  File \"/Users/chloe/opt/anaconda3/lib/python3.9/site-packages/pandas/core/computation/expressions.py\", line 21, in <module>\n",
      "    from pandas.core.computation.check import NUMEXPR_INSTALLED\n",
      "  File \"/Users/chloe/opt/anaconda3/lib/python3.9/site-packages/pandas/core/computation/check.py\", line 5, in <module>\n",
      "    ne = import_optional_dependency(\"numexpr\", errors=\"warn\")\n",
      "  File \"/Users/chloe/opt/anaconda3/lib/python3.9/site-packages/pandas/compat/_optional.py\", line 135, in import_optional_dependency\n",
      "    module = importlib.import_module(name)\n",
      "  File \"/Users/chloe/opt/anaconda3/lib/python3.9/importlib/__init__.py\", line 127, in import_module\n",
      "    return _bootstrap._gcd_import(name[level:], package, level)\n",
      "  File \"/Users/chloe/opt/anaconda3/lib/python3.9/site-packages/numexpr/__init__.py\", line 24, in <module>\n",
      "    from numexpr.interpreter import MAX_THREADS, use_vml, __BLOCK_SIZE1__\n"
     ]
    },
    {
     "ename": "AttributeError",
     "evalue": "_ARRAY_API not found",
     "output_type": "error",
     "traceback": [
      "\u001b[0;31m---------------------------------------------------------------------------\u001b[0m",
      "\u001b[0;31mAttributeError\u001b[0m                            Traceback (most recent call last)",
      "\u001b[0;31mAttributeError\u001b[0m: _ARRAY_API not found"
     ]
    },
    {
     "name": "stderr",
     "output_type": "stream",
     "text": [
      "\n",
      "A module that was compiled using NumPy 1.x cannot be run in\n",
      "NumPy 2.0.1 as it may crash. To support both 1.x and 2.x\n",
      "versions of NumPy, modules must be compiled with NumPy 2.0.\n",
      "Some module may need to rebuild instead e.g. with 'pybind11>=2.12'.\n",
      "\n",
      "If you are a user of the module, the easiest solution will be to\n",
      "downgrade to 'numpy<2' or try to upgrade the affected module.\n",
      "We expect that some modules will need time to support NumPy 2.\n",
      "\n",
      "Traceback (most recent call last):  File \"/Users/chloe/opt/anaconda3/lib/python3.9/runpy.py\", line 197, in _run_module_as_main\n",
      "    return _run_code(code, main_globals, None,\n",
      "  File \"/Users/chloe/opt/anaconda3/lib/python3.9/runpy.py\", line 87, in _run_code\n",
      "    exec(code, run_globals)\n",
      "  File \"/Users/chloe/opt/anaconda3/lib/python3.9/site-packages/ipykernel_launcher.py\", line 16, in <module>\n",
      "    app.launch_new_instance()\n",
      "  File \"/Users/chloe/opt/anaconda3/lib/python3.9/site-packages/traitlets/config/application.py\", line 846, in launch_instance\n",
      "    app.start()\n",
      "  File \"/Users/chloe/opt/anaconda3/lib/python3.9/site-packages/ipykernel/kernelapp.py\", line 677, in start\n",
      "    self.io_loop.start()\n",
      "  File \"/Users/chloe/opt/anaconda3/lib/python3.9/site-packages/tornado/platform/asyncio.py\", line 199, in start\n",
      "    self.asyncio_loop.run_forever()\n",
      "  File \"/Users/chloe/opt/anaconda3/lib/python3.9/asyncio/base_events.py\", line 601, in run_forever\n",
      "    self._run_once()\n",
      "  File \"/Users/chloe/opt/anaconda3/lib/python3.9/asyncio/base_events.py\", line 1905, in _run_once\n",
      "    handle._run()\n",
      "  File \"/Users/chloe/opt/anaconda3/lib/python3.9/asyncio/events.py\", line 80, in _run\n",
      "    self._context.run(self._callback, *self._args)\n",
      "  File \"/Users/chloe/opt/anaconda3/lib/python3.9/site-packages/ipykernel/kernelbase.py\", line 471, in dispatch_queue\n",
      "    await self.process_one()\n",
      "  File \"/Users/chloe/opt/anaconda3/lib/python3.9/site-packages/ipykernel/kernelbase.py\", line 460, in process_one\n",
      "    await dispatch(*args)\n",
      "  File \"/Users/chloe/opt/anaconda3/lib/python3.9/site-packages/ipykernel/kernelbase.py\", line 367, in dispatch_shell\n",
      "    await result\n",
      "  File \"/Users/chloe/opt/anaconda3/lib/python3.9/site-packages/ipykernel/kernelbase.py\", line 662, in execute_request\n",
      "    reply_content = await reply_content\n",
      "  File \"/Users/chloe/opt/anaconda3/lib/python3.9/site-packages/ipykernel/ipkernel.py\", line 360, in do_execute\n",
      "    res = shell.run_cell(code, store_history=store_history, silent=silent)\n",
      "  File \"/Users/chloe/opt/anaconda3/lib/python3.9/site-packages/ipykernel/zmqshell.py\", line 532, in run_cell\n",
      "    return super().run_cell(*args, **kwargs)\n",
      "  File \"/Users/chloe/opt/anaconda3/lib/python3.9/site-packages/IPython/core/interactiveshell.py\", line 2863, in run_cell\n",
      "    result = self._run_cell(\n",
      "  File \"/Users/chloe/opt/anaconda3/lib/python3.9/site-packages/IPython/core/interactiveshell.py\", line 2909, in _run_cell\n",
      "    return runner(coro)\n",
      "  File \"/Users/chloe/opt/anaconda3/lib/python3.9/site-packages/IPython/core/async_helpers.py\", line 129, in _pseudo_sync_runner\n",
      "    coro.send(None)\n",
      "  File \"/Users/chloe/opt/anaconda3/lib/python3.9/site-packages/IPython/core/interactiveshell.py\", line 3106, in run_cell_async\n",
      "    has_raised = await self.run_ast_nodes(code_ast.body, cell_name,\n",
      "  File \"/Users/chloe/opt/anaconda3/lib/python3.9/site-packages/IPython/core/interactiveshell.py\", line 3309, in run_ast_nodes\n",
      "    if await self.run_code(code, result, async_=asy):\n",
      "  File \"/Users/chloe/opt/anaconda3/lib/python3.9/site-packages/IPython/core/interactiveshell.py\", line 3369, in run_code\n",
      "    exec(code_obj, self.user_global_ns, self.user_ns)\n",
      "  File \"/var/folders/ng/3dbtj71s4j1_26x8pjh3syfw0000gn/T/ipykernel_64862/1624849881.py\", line 2, in <cell line: 2>\n",
      "    import pandas as pd\n",
      "  File \"/Users/chloe/opt/anaconda3/lib/python3.9/site-packages/pandas/__init__.py\", line 49, in <module>\n",
      "    from pandas.core.api import (\n",
      "  File \"/Users/chloe/opt/anaconda3/lib/python3.9/site-packages/pandas/core/api.py\", line 28, in <module>\n",
      "    from pandas.core.arrays import Categorical\n",
      "  File \"/Users/chloe/opt/anaconda3/lib/python3.9/site-packages/pandas/core/arrays/__init__.py\", line 1, in <module>\n",
      "    from pandas.core.arrays.arrow import ArrowExtensionArray\n",
      "  File \"/Users/chloe/opt/anaconda3/lib/python3.9/site-packages/pandas/core/arrays/arrow/__init__.py\", line 5, in <module>\n",
      "    from pandas.core.arrays.arrow.array import ArrowExtensionArray\n",
      "  File \"/Users/chloe/opt/anaconda3/lib/python3.9/site-packages/pandas/core/arrays/arrow/array.py\", line 64, in <module>\n",
      "    from pandas.core.arrays.masked import BaseMaskedArray\n",
      "  File \"/Users/chloe/opt/anaconda3/lib/python3.9/site-packages/pandas/core/arrays/masked.py\", line 60, in <module>\n",
      "    from pandas.core import (\n",
      "  File \"/Users/chloe/opt/anaconda3/lib/python3.9/site-packages/pandas/core/nanops.py\", line 52, in <module>\n",
      "    bn = import_optional_dependency(\"bottleneck\", errors=\"warn\")\n",
      "  File \"/Users/chloe/opt/anaconda3/lib/python3.9/site-packages/pandas/compat/_optional.py\", line 135, in import_optional_dependency\n",
      "    module = importlib.import_module(name)\n",
      "  File \"/Users/chloe/opt/anaconda3/lib/python3.9/importlib/__init__.py\", line 127, in import_module\n",
      "    return _bootstrap._gcd_import(name[level:], package, level)\n",
      "  File \"/Users/chloe/opt/anaconda3/lib/python3.9/site-packages/bottleneck/__init__.py\", line 7, in <module>\n",
      "    from .move import (move_argmax, move_argmin, move_max, move_mean, move_median,\n"
     ]
    },
    {
     "ename": "AttributeError",
     "evalue": "_ARRAY_API not found",
     "output_type": "error",
     "traceback": [
      "\u001b[0;31m---------------------------------------------------------------------------\u001b[0m",
      "\u001b[0;31mAttributeError\u001b[0m                            Traceback (most recent call last)",
      "\u001b[0;31mAttributeError\u001b[0m: _ARRAY_API not found"
     ]
    },
    {
     "ename": "ValueError",
     "evalue": "numpy.dtype size changed, may indicate binary incompatibility. Expected 96 from C header, got 88 from PyObject",
     "output_type": "error",
     "traceback": [
      "\u001b[0;31m---------------------------------------------------------------------------\u001b[0m",
      "\u001b[0;31mValueError\u001b[0m                                Traceback (most recent call last)",
      "Input \u001b[0;32mIn [2]\u001b[0m, in \u001b[0;36m<cell line: 5>\u001b[0;34m()\u001b[0m\n\u001b[1;32m      3\u001b[0m \u001b[38;5;28;01mimport\u001b[39;00m \u001b[38;5;21;01mmatplotlib\u001b[39;00m \u001b[38;5;28;01mas\u001b[39;00m \u001b[38;5;21;01mplt\u001b[39;00m\n\u001b[1;32m      4\u001b[0m \u001b[38;5;28;01mimport\u001b[39;00m \u001b[38;5;21;01mseaborn\u001b[39;00m \u001b[38;5;28;01mas\u001b[39;00m \u001b[38;5;21;01msns\u001b[39;00m \n\u001b[0;32m----> 5\u001b[0m \u001b[38;5;28;01mimport\u001b[39;00m \u001b[38;5;21;01msklearn\u001b[39;00m\n",
      "File \u001b[0;32m~/opt/anaconda3/lib/python3.9/site-packages/sklearn/__init__.py:82\u001b[0m, in \u001b[0;36m<module>\u001b[0;34m\u001b[0m\n\u001b[1;32m     80\u001b[0m \u001b[38;5;28;01mfrom\u001b[39;00m \u001b[38;5;21;01m.\u001b[39;00m \u001b[38;5;28;01mimport\u001b[39;00m _distributor_init  \u001b[38;5;66;03m# noqa: F401\u001b[39;00m\n\u001b[1;32m     81\u001b[0m \u001b[38;5;28;01mfrom\u001b[39;00m \u001b[38;5;21;01m.\u001b[39;00m \u001b[38;5;28;01mimport\u001b[39;00m __check_build  \u001b[38;5;66;03m# noqa: F401\u001b[39;00m\n\u001b[0;32m---> 82\u001b[0m \u001b[38;5;28;01mfrom\u001b[39;00m \u001b[38;5;21;01m.\u001b[39;00m\u001b[38;5;21;01mbase\u001b[39;00m \u001b[38;5;28;01mimport\u001b[39;00m clone\n\u001b[1;32m     83\u001b[0m \u001b[38;5;28;01mfrom\u001b[39;00m \u001b[38;5;21;01m.\u001b[39;00m\u001b[38;5;21;01mutils\u001b[39;00m\u001b[38;5;21;01m.\u001b[39;00m\u001b[38;5;21;01m_show_versions\u001b[39;00m \u001b[38;5;28;01mimport\u001b[39;00m show_versions\n\u001b[1;32m     85\u001b[0m __all__ \u001b[38;5;241m=\u001b[39m [\n\u001b[1;32m     86\u001b[0m     \u001b[38;5;124m\"\u001b[39m\u001b[38;5;124mcalibration\u001b[39m\u001b[38;5;124m\"\u001b[39m,\n\u001b[1;32m     87\u001b[0m     \u001b[38;5;124m\"\u001b[39m\u001b[38;5;124mcluster\u001b[39m\u001b[38;5;124m\"\u001b[39m,\n\u001b[0;32m   (...)\u001b[0m\n\u001b[1;32m    128\u001b[0m     \u001b[38;5;124m\"\u001b[39m\u001b[38;5;124mshow_versions\u001b[39m\u001b[38;5;124m\"\u001b[39m,\n\u001b[1;32m    129\u001b[0m ]\n",
      "File \u001b[0;32m~/opt/anaconda3/lib/python3.9/site-packages/sklearn/base.py:17\u001b[0m, in \u001b[0;36m<module>\u001b[0;34m\u001b[0m\n\u001b[1;32m     15\u001b[0m \u001b[38;5;28;01mfrom\u001b[39;00m \u001b[38;5;21;01m.\u001b[39;00m \u001b[38;5;28;01mimport\u001b[39;00m __version__\n\u001b[1;32m     16\u001b[0m \u001b[38;5;28;01mfrom\u001b[39;00m \u001b[38;5;21;01m.\u001b[39;00m\u001b[38;5;21;01m_config\u001b[39;00m \u001b[38;5;28;01mimport\u001b[39;00m get_config\n\u001b[0;32m---> 17\u001b[0m \u001b[38;5;28;01mfrom\u001b[39;00m \u001b[38;5;21;01m.\u001b[39;00m\u001b[38;5;21;01mutils\u001b[39;00m \u001b[38;5;28;01mimport\u001b[39;00m _IS_32BIT\n\u001b[1;32m     18\u001b[0m \u001b[38;5;28;01mfrom\u001b[39;00m \u001b[38;5;21;01m.\u001b[39;00m\u001b[38;5;21;01mutils\u001b[39;00m\u001b[38;5;21;01m.\u001b[39;00m\u001b[38;5;21;01m_tags\u001b[39;00m \u001b[38;5;28;01mimport\u001b[39;00m (\n\u001b[1;32m     19\u001b[0m     _DEFAULT_TAGS,\n\u001b[1;32m     20\u001b[0m     _safe_tags,\n\u001b[1;32m     21\u001b[0m )\n\u001b[1;32m     22\u001b[0m \u001b[38;5;28;01mfrom\u001b[39;00m \u001b[38;5;21;01m.\u001b[39;00m\u001b[38;5;21;01mutils\u001b[39;00m\u001b[38;5;21;01m.\u001b[39;00m\u001b[38;5;21;01mvalidation\u001b[39;00m \u001b[38;5;28;01mimport\u001b[39;00m check_X_y\n",
      "File \u001b[0;32m~/opt/anaconda3/lib/python3.9/site-packages/sklearn/utils/__init__.py:23\u001b[0m, in \u001b[0;36m<module>\u001b[0;34m\u001b[0m\n\u001b[1;32m     20\u001b[0m \u001b[38;5;28;01mimport\u001b[39;00m \u001b[38;5;21;01mnumpy\u001b[39;00m \u001b[38;5;28;01mas\u001b[39;00m \u001b[38;5;21;01mnp\u001b[39;00m\n\u001b[1;32m     21\u001b[0m \u001b[38;5;28;01mfrom\u001b[39;00m \u001b[38;5;21;01mscipy\u001b[39;00m\u001b[38;5;21;01m.\u001b[39;00m\u001b[38;5;21;01msparse\u001b[39;00m \u001b[38;5;28;01mimport\u001b[39;00m issparse\n\u001b[0;32m---> 23\u001b[0m \u001b[38;5;28;01mfrom\u001b[39;00m \u001b[38;5;21;01m.\u001b[39;00m\u001b[38;5;21;01mmurmurhash\u001b[39;00m \u001b[38;5;28;01mimport\u001b[39;00m murmurhash3_32\n\u001b[1;32m     24\u001b[0m \u001b[38;5;28;01mfrom\u001b[39;00m \u001b[38;5;21;01m.\u001b[39;00m\u001b[38;5;21;01mclass_weight\u001b[39;00m \u001b[38;5;28;01mimport\u001b[39;00m compute_class_weight, compute_sample_weight\n\u001b[1;32m     25\u001b[0m \u001b[38;5;28;01mfrom\u001b[39;00m \u001b[38;5;21;01m.\u001b[39;00m \u001b[38;5;28;01mimport\u001b[39;00m _joblib\n",
      "File \u001b[0;32msklearn/utils/murmurhash.pyx:1\u001b[0m, in \u001b[0;36minit sklearn.utils.murmurhash\u001b[0;34m()\u001b[0m\n",
      "\u001b[0;31mValueError\u001b[0m: numpy.dtype size changed, may indicate binary incompatibility. Expected 96 from C header, got 88 from PyObject"
     ]
    }
   ],
   "source": [
    "import numpy as np\n",
    "import pandas as pd\n",
    "import matplotlib as plt\n",
    "import seaborn as sns \n",
    "import sklearn\n"
   ]
  },
  {
   "cell_type": "markdown",
   "id": "e6fbc98d",
   "metadata": {},
   "source": [
    "Import data"
   ]
  },
  {
   "cell_type": "code",
   "execution_count": null,
   "id": "c6896856",
   "metadata": {},
   "outputs": [],
   "source": [
    "df = pd.read_csv('Olympics_data/dataset_olympics.csv')\n",
    "df.head()"
   ]
  },
  {
   "cell_type": "markdown",
   "id": "8f6b7e02",
   "metadata": {},
   "source": [
    "View data"
   ]
  },
  {
   "cell_type": "code",
   "execution_count": null,
   "id": "fc86dacf",
   "metadata": {
    "scrolled": true
   },
   "outputs": [],
   "source": [
    "df.describe()\n",
    "#max age is 88 \n",
    "#min age is 11 \n",
    "#olympics from 1896 to 2016 \n"
   ]
  },
  {
   "cell_type": "code",
   "execution_count": null,
   "id": "b0047994",
   "metadata": {},
   "outputs": [],
   "source": [
    "df.info()\n",
    "#all data types looks correct"
   ]
  },
  {
   "cell_type": "markdown",
   "id": "44b646f3",
   "metadata": {},
   "source": [
    "Data Cleaning"
   ]
  },
  {
   "cell_type": "code",
   "execution_count": null,
   "id": "062b059a",
   "metadata": {},
   "outputs": [],
   "source": [
    "#remove ID column \n",
    "df =df.drop(['ID'], axis = 1)\n",
    "df"
   ]
  },
  {
   "cell_type": "code",
   "execution_count": null,
   "id": "281878ab",
   "metadata": {},
   "outputs": [],
   "source": [
    "#remove NaN's?\n"
   ]
  },
  {
   "cell_type": "code",
   "execution_count": null,
   "id": "94b21d84",
   "metadata": {},
   "outputs": [],
   "source": [
    "#sex is object - change to 0 and 1 (integer)\n",
    "df.Sex[df.Sex == 'M'] = 1\n",
    "df.Sex[df.Sex == 'F'] = 0 \n",
    "df\n",
    "\n"
   ]
  },
  {
   "cell_type": "code",
   "execution_count": null,
   "id": "b0a74d42",
   "metadata": {},
   "outputs": [],
   "source": [
    "df.info()\n",
    "#sex = object so need to change to int\n",
    "df['Sex'] = df['Sex'].astype('int64')\n",
    "\n",
    "df['Sex'].dtype"
   ]
  },
  {
   "cell_type": "code",
   "execution_count": null,
   "id": "a62e87b6",
   "metadata": {},
   "outputs": [],
   "source": [
    "#create column with medal 1 or no medal 0 \n",
    "#replicate medal column \n",
    "df['Medal_any'] = df['Medal']\n",
    "df\n"
   ]
  },
  {
   "cell_type": "code",
   "execution_count": null,
   "id": "02a793df",
   "metadata": {},
   "outputs": [],
   "source": [
    "#make any medal awarded = 1\n",
    "df.Medal_any[df.Medal_any == 'Gold'] = 1\n",
    "df.Medal_any[df.Medal_any == 'Silver'] = 1\n",
    "df.Medal_any[df.Medal_any == 'Bronze'] = 1\n",
    "\n",
    "#replace NaNs with 0s\n",
    "df['Medal_any'] = df['Medal_any'].fillna(0)\n",
    "df"
   ]
  },
  {
   "cell_type": "code",
   "execution_count": null,
   "id": "856f62f1",
   "metadata": {},
   "outputs": [],
   "source": [
    "#separate by winter and summer olympics \n",
    "df_winter = df[(df.Season == 'Winter')]\n",
    "df_winter\n"
   ]
  },
  {
   "cell_type": "code",
   "execution_count": null,
   "id": "b951bfbf",
   "metadata": {},
   "outputs": [],
   "source": [
    "df_winter.shape"
   ]
  },
  {
   "cell_type": "code",
   "execution_count": null,
   "id": "03bcccd3",
   "metadata": {},
   "outputs": [],
   "source": [
    "df_winter.describe()"
   ]
  },
  {
   "cell_type": "code",
   "execution_count": null,
   "id": "b08f302f",
   "metadata": {},
   "outputs": [],
   "source": [
    "df_summer = df[(df.Season == 'Summer')]\n",
    "df_summer"
   ]
  },
  {
   "cell_type": "code",
   "execution_count": null,
   "id": "d05c5c04",
   "metadata": {},
   "outputs": [],
   "source": [
    "df_summer.describe()"
   ]
  },
  {
   "cell_type": "code",
   "execution_count": null,
   "id": "7828eb13",
   "metadata": {},
   "outputs": [],
   "source": [
    "df_summer.shape"
   ]
  },
  {
   "cell_type": "code",
   "execution_count": null,
   "id": "d7286163",
   "metadata": {},
   "outputs": [],
   "source": [
    "display(df)"
   ]
  },
  {
   "cell_type": "code",
   "execution_count": null,
   "id": "92a36360",
   "metadata": {},
   "outputs": [],
   "source": [
    "#filter by medal or no medal column \n",
    "#medal winners \n",
    "\n",
    "df_medal_winners = df[(df.Medal_any == 1)]"
   ]
  },
  {
   "cell_type": "code",
   "execution_count": null,
   "id": "539d28b9",
   "metadata": {},
   "outputs": [],
   "source": [
    "display(df_medal_winners)"
   ]
  },
  {
   "cell_type": "code",
   "execution_count": null,
   "id": "65b5661a",
   "metadata": {},
   "outputs": [],
   "source": [
    "df_medal_winners.describe()"
   ]
  },
  {
   "cell_type": "code",
   "execution_count": null,
   "id": "1de85d5c",
   "metadata": {},
   "outputs": [],
   "source": [
    "df_medal_winners.shape\n",
    "#9690 medal winners "
   ]
  },
  {
   "cell_type": "code",
   "execution_count": null,
   "id": "935674b1",
   "metadata": {},
   "outputs": [],
   "source": [
    "#group by summer and winter olympics and sex\n",
    "#look at the means between medal winners in both winter and summer games\n",
    "df_medal_winners.groupby(['Season','Sex'])[['Age', 'Height', 'Weight']].mean()\n"
   ]
  },
  {
   "cell_type": "code",
   "execution_count": null,
   "id": "bea6398c",
   "metadata": {},
   "outputs": [],
   "source": [
    "#groupby country\n",
    "countries_medals = df.groupby(['NOC'])[['Age', 'Height', 'Weight', 'Medal_any']].mean()\n",
    "#sort by highest ratio of medal winners\n",
    "countries_medals.sort_values(by = 'Medal_any', ascending = False)\n",
    "\n"
   ]
  },
  {
   "cell_type": "code",
   "execution_count": null,
   "id": "9025e60b",
   "metadata": {},
   "outputs": [],
   "source": [
    "total_medals_country = df_medal_winners.groupby(['NOC'])[['Medal_any']].sum()\n",
    "#top 10 countries with highest medal counts for both summer and winter games\n",
    "total_medals_country.sort_values(['Medal_any'], ascending = False).head(10)"
   ]
  },
  {
   "cell_type": "code",
   "execution_count": null,
   "id": "4eb5ecac",
   "metadata": {},
   "outputs": [],
   "source": [
    "# summer games only \n",
    "total_medals_country_summer = df_summer.groupby(['NOC', 'Season'])[['Medal_any']].sum()\n",
    "summer_top10 = total_medals_country_summer.sort_values('Medal_any', ascending = False).head(10)\n",
    "summer_top10"
   ]
  },
  {
   "cell_type": "code",
   "execution_count": null,
   "id": "9da81a6b",
   "metadata": {},
   "outputs": [],
   "source": [
    "#winter games only \n",
    "total_medals_country_winter = df_winter.groupby(['NOC', 'Season'])[['Medal_any']].sum()\n",
    "winter_top10 = total_medals_country_winter.sort_values('Medal_any', ascending = False).head(10)\n",
    "winter_top10"
   ]
  },
  {
   "cell_type": "markdown",
   "id": "fab4d5ce",
   "metadata": {},
   "source": [
    "EDA - Exploratory Data Analysis"
   ]
  },
  {
   "cell_type": "code",
   "execution_count": null,
   "id": "4213febd",
   "metadata": {},
   "outputs": [],
   "source": [
    "# bar graphs, boxplots, histograms, scatter plots, pearson correlation\n",
    "#bar graph for number of gold, silver and bronze medals \n"
   ]
  },
  {
   "cell_type": "code",
   "execution_count": null,
   "id": "a3afbbd8",
   "metadata": {},
   "outputs": [],
   "source": [
    "#bar graph for top 10 medal winning countries in the winter olympics across all games \n",
    "total_medals_country_winter.sort_values('Medal_any', ascending = False).head(10).plot(kind = 'bar');"
   ]
  },
  {
   "cell_type": "code",
   "execution_count": null,
   "id": "65b453fd",
   "metadata": {
    "scrolled": true
   },
   "outputs": [],
   "source": [
    "#bar graph for top 10 medal winning countries in the summer olympics across all games \n",
    "total_medals_country_summer.sort_values('Medal_any', ascending = False).head(10).plot(kind = 'bar');"
   ]
  },
  {
   "cell_type": "code",
   "execution_count": null,
   "id": "b2ef4e34",
   "metadata": {},
   "outputs": [],
   "source": []
  },
  {
   "cell_type": "code",
   "execution_count": null,
   "id": "95402ca7",
   "metadata": {},
   "outputs": [],
   "source": [
    "#Join summer and winter top 10 countries to find countries with the most medals in both seasons\n",
    "top_sum_win = pd.concat([winter_top10, summer_top10], axis = 0)\n",
    "top_sum_win"
   ]
  },
  {
   "cell_type": "code",
   "execution_count": null,
   "id": "65508b09",
   "metadata": {},
   "outputs": [],
   "source": [
    "#bar for top 10 for summer and winter combined into one plot \n",
    "top_10_bar = sns.barplot(x='NOC', y='Medal_any', data=top_sum_win, hue='Season').set(title='Top 10 countries with highest medal count for summer and winter olympics 1896-2016', \n",
    "                                                                                     xlabel='Country (NOC)', ylabel='Medal Count')"
   ]
  },
  {
   "cell_type": "code",
   "execution_count": null,
   "id": "b293b77c",
   "metadata": {},
   "outputs": [],
   "source": [
    "#medal winners \n",
    "Age_height_scatter = sns.scatterplot(x='Age', y='Height', data=df_medal_winners, hue='Medal', ec = None, \n",
    "                alpha = 0.6).set(title='Relationship between age and height in olympic medal winners',\n",
    "ylabel='Height (cm)')\n"
   ]
  },
  {
   "cell_type": "code",
   "execution_count": null,
   "id": "1e101399",
   "metadata": {},
   "outputs": [],
   "source": []
  },
  {
   "cell_type": "markdown",
   "id": "ab978509",
   "metadata": {},
   "source": [
    "#Hypothesis 1. Countries have a greater chance of winning medals if they have the home advantage "
   ]
  },
  {
   "cell_type": "code",
   "execution_count": null,
   "id": "064f9680",
   "metadata": {},
   "outputs": [],
   "source": [
    "olympic_cities = [df['City'].unique()]\n",
    "olympic_cities"
   ]
  },
  {
   "cell_type": "code",
   "execution_count": null,
   "id": "f5afb228",
   "metadata": {},
   "outputs": [],
   "source": [
    "#create column to provide the country NOC for the host city\n",
    "df['City_NOC'] = df['City']\n",
    "df\n",
    "\n"
   ]
  },
  {
   "cell_type": "code",
   "execution_count": null,
   "id": "66d8caba",
   "metadata": {},
   "outputs": [],
   "source": [
    "        \n",
    "#make city the NOC\n",
    "df.City_NOC[df.City_NOC == 'Barcelona'] = 'ESP'\n",
    "df.City_NOC[df.City_NOC == 'London'] = 'GBR'\n",
    "df.City_NOC[df.City_NOC == 'Antwerpen'] = 'BEL'\n",
    "df.City_NOC[df.City_NOC == 'Paris'] = 'FRA'\n",
    "df.City_NOC[df.City_NOC == 'Calgary'] = 'CAN'\n",
    "df.City_NOC[df.City_NOC == 'Albertville'] = 'FRA'\n",
    "df.City_NOC[df.City_NOC == 'Lillehammer'] ='NOR'\n",
    "df.City_NOC[df.City_NOC == 'Los Angeles'] = 'USA'\n",
    "df.City_NOC[df.City_NOC == 'Salt Lake City'] = 'USA'\n",
    "df.City_NOC[df.City_NOC == 'Helsinki'] = 'FIN'\n",
    "df.City_NOC[df.City_NOC == 'Lake Placid'] = 'USA'\n",
    "df.City_NOC[df.City_NOC == 'Sydney'] ='AUS'\n",
    "df.City_NOC[df.City_NOC == 'Atlanta'] = 'USA'\n",
    "df.City_NOC[df.City_NOC == 'Stockholm'] = 'SWE'\n",
    "df.City_NOC[df.City_NOC == 'Sochi'] = 'RUS'\n",
    "df.City_NOC[df.City_NOC == 'Nagano'] = 'JPN'\n",
    "df.City_NOC[df.City_NOC == 'Torino'] ='ITA'\n",
    "df.City_NOC[df.City_NOC == 'Beijing'] = 'CHN'\n",
    "df.City_NOC[df.City_NOC == 'Rio de Janeiro'] = 'BRA'\n",
    "df.City_NOC[df.City_NOC == 'Athina'] = 'GRE'\n",
    "df.City_NOC[df.City_NOC == 'Squaw Valley'] ='USA'\n",
    "df.City_NOC[df.City_NOC == 'Innsbruck'] ='AUT'\n",
    "df.City_NOC[df.City_NOC == 'Sarajevo'] ='BIH'\n",
    "df.City_NOC[df.City_NOC == 'Mexico City'] = 'MEX'\n",
    "df.City_NOC[df.City_NOC == 'Munich'] = 'GER'\n",
    "df.City_NOC[df.City_NOC == 'Seoul'] ='KOR'\n",
    "df.City_NOC[df.City_NOC == 'Berlin'] = 'GER'\n",
    "df.City_NOC[df.City_NOC == 'Oslo'] = 'NOR'\n",
    "df.City_NOC[df.City_NOC == \"Cortina d'Ampezzo\"] ='ITA'\n",
    "df.City_NOC[df.City_NOC == 'Melbourne'] ='AUS'\n",
    "df.City_NOC[df.City_NOC == 'Roma'] ='ITA'\n",
    "df.City_NOC[df.City_NOC == 'Amsterdam'] ='NED'\n",
    "df.City_NOC[df.City_NOC == 'Montreal'] ='CAN'\n",
    "df.City_NOC[df.City_NOC == 'Moskva'] ='RUS'\n",
    "df.City_NOC[df.City_NOC == 'Tokyo'] ='JPN'\n",
    "df.City_NOC[df.City_NOC == 'Vancouver'] ='CAN'\n",
    "df.City_NOC[df.City_NOC == 'Grenoble'] ='FRA'\n",
    "df.City_NOC[df.City_NOC == 'Sapporo'] ='JPN'\n",
    "df.City_NOC[df.City_NOC == 'Chamonix'] ='FRA'\n",
    "df.City_NOC[df.City_NOC == 'St. Louis'] ='USA'\n",
    "df.City_NOC[df.City_NOC == 'Sankt Moritz'] ='SUI'\n",
    "df.City_NOC[df.City_NOC == 'Garmisch-Partenkirchen'] ='GER'\n",
    "\n",
    "df"
   ]
  },
  {
   "cell_type": "code",
   "execution_count": null,
   "id": "9c506f3d",
   "metadata": {},
   "outputs": [],
   "source": [
    "#Filter for rows were the NOC is the same as city NOC \n",
    "\n",
    "home_advan = df.copy()\n",
    "home_advan = home_advan[(home_advan['NOC'] == home_advan['City_NOC'])]\n",
    "home_advan \n"
   ]
  },
  {
   "cell_type": "code",
   "execution_count": null,
   "id": "24617a4d",
   "metadata": {},
   "outputs": [],
   "source": [
    "home_advan.shape"
   ]
  },
  {
   "cell_type": "code",
   "execution_count": null,
   "id": "c40e0d3d",
   "metadata": {},
   "outputs": [],
   "source": []
  },
  {
   "cell_type": "code",
   "execution_count": null,
   "id": "4333c1bc",
   "metadata": {},
   "outputs": [],
   "source": [
    "medal_winners_home = home_advan.groupby(['NOC', 'Season'])[['Medal_any']].sum()\n",
    "medal_winners_home = medal_winners_home.sort_values('Medal_any', ascending = False)\n",
    "medal_winners_home\n"
   ]
  },
  {
   "cell_type": "code",
   "execution_count": null,
   "id": "45364c36",
   "metadata": {},
   "outputs": [],
   "source": [
    "sns.barplot(x='NOC', y='Medal_any', data=medal_winners_home, hue='Season').set(title='Medal count for Olympics in the countries home city \\n for the summer and winter olympics 1896-2016', \n",
    "                                                                                     xlabel='Country (NOC)', ylabel='Medal Count')"
   ]
  },
  {
   "cell_type": "code",
   "execution_count": null,
   "id": "4cfab9e8",
   "metadata": {},
   "outputs": [],
   "source": [
    "#number of medals per country for each olympics \n",
    "NOC_medal_count = df.groupby(['Year', 'Season','NOC'])[['Medal_any']].sum()\n",
    "\n",
    "#Calculate mean medal count per country \n",
    "NOC_mean_medal_count = df.groupby(['NOC', 'Season'])[['Medal_any']].mean()\n",
    "NOC_mean_medal_count\n"
   ]
  },
  {
   "cell_type": "code",
   "execution_count": null,
   "id": "ed96d118",
   "metadata": {},
   "outputs": [],
   "source": [
    "sns.barplot(x='NOC', y='Medal_any', data=NOC_mean_medal_count, hue='Season', ec = None, \n",
    "                alpha = 0.6).set(title='Mean medal count per country',\n",
    "ylabel='Average medal count')\n"
   ]
  },
  {
   "cell_type": "code",
   "execution_count": null,
   "id": "11205be1",
   "metadata": {},
   "outputs": [],
   "source": [
    "home_advan"
   ]
  },
  {
   "cell_type": "code",
   "execution_count": null,
   "id": "3d9d609e",
   "metadata": {},
   "outputs": [],
   "source": [
    "#Find the number of medals per country for home olympics \n",
    "mean_medal_count_homead = home_advan.groupby(['NOC', 'Season'])[['Medal_any']].mean()\n",
    "mean_medal_count_homead\n"
   ]
  },
  {
   "cell_type": "code",
   "execution_count": null,
   "id": "83f7aaa7",
   "metadata": {},
   "outputs": [],
   "source": [
    "#join home advantage medal count mean and all medal count mean tables together \n",
    "mean_medal_count_home_vs_all = pd.merge(NOC_mean_medal_count, mean_medal_count_homead, how = 'inner', on = ['NOC', 'Season'],suffixes=('_total_mean', '_home_mean'))\n",
    "mean_medal_count_home_vs_all\n",
    "#inner join to collect only data with both mean values for home advantage and total"
   ]
  },
  {
   "cell_type": "code",
   "execution_count": null,
   "id": "1aa62213",
   "metadata": {},
   "outputs": [],
   "source": [
    "mean_medal_count_home_vs_all.columns  = ['NOC','Season', 'Total_mean_medal_count', 'Home_mean_medal_count']\n",
    "mean_medal_count_home_vs_all"
   ]
  },
  {
   "cell_type": "code",
   "execution_count": null,
   "id": "95c7a72a",
   "metadata": {},
   "outputs": [],
   "source": [
    "#reset index \n",
    "mean_medal_count_home_vs_all= mean_medal_count_home_vs_all.reset_index()"
   ]
  },
  {
   "cell_type": "code",
   "execution_count": null,
   "id": "0ea8f299",
   "metadata": {},
   "outputs": [],
   "source": [
    "#melt dataframe to use for plot\n",
    "mean_medal_count_home_vs_all_melt = pd.melt(mean_medal_count_home_vs_all, id_vars=[\"NOC\", 'Season'], var_name=\"home_vs_away\", value_name=\"mean_medal_count\")\n",
    "mean_medal_count_home_vs_all_melt\n"
   ]
  },
  {
   "cell_type": "code",
   "execution_count": null,
   "id": "498c4bd8",
   "metadata": {},
   "outputs": [],
   "source": [
    "#plot bar graph \n",
    "\n",
    "ax = sns.barplot(x='home_vs_away', y='mean_medal_count', hue='Season', data=mean_medal_count_home_vs_all_melt)\n",
    "ax.spines[['top', 'right']].set_visible(False)\n",
    "ax.set_title('Total mean medal count vs home mean medal count ')\n",
    "ax.set_ylabel('Mean medal count')\n",
    "ax.set_xlabel('Total mean medal count vs home mean medal count')"
   ]
  },
  {
   "cell_type": "code",
   "execution_count": null,
   "id": "0dc1ee35",
   "metadata": {},
   "outputs": [],
   "source": [
    "#filter into summer and winter \n"
   ]
  },
  {
   "cell_type": "code",
   "execution_count": 4,
   "id": "8a03f171",
   "metadata": {},
   "outputs": [
    {
     "ename": "NameError",
     "evalue": "name 'mean_medal_count_home_vs_all_melt' is not defined",
     "output_type": "error",
     "traceback": [
      "\u001b[0;31m---------------------------------------------------------------------------\u001b[0m",
      "\u001b[0;31mNameError\u001b[0m                                 Traceback (most recent call last)",
      "Input \u001b[0;32mIn [4]\u001b[0m, in \u001b[0;36m<cell line: 5>\u001b[0;34m()\u001b[0m\n\u001b[1;32m      3\u001b[0m plt\u001b[38;5;241m.\u001b[39mfigure(figsize\u001b[38;5;241m=\u001b[39m(\u001b[38;5;241m15\u001b[39m,\u001b[38;5;241m10\u001b[39m))\n\u001b[1;32m      4\u001b[0m sns\u001b[38;5;241m.\u001b[39mset(style\u001b[38;5;241m=\u001b[39m\u001b[38;5;124m\"\u001b[39m\u001b[38;5;124mwhitegrid\u001b[39m\u001b[38;5;124m\"\u001b[39m, font_scale \u001b[38;5;241m=\u001b[39m \u001b[38;5;241m1.5\u001b[39m)\n\u001b[0;32m----> 5\u001b[0m sns\u001b[38;5;241m.\u001b[39mbarplot(x\u001b[38;5;241m=\u001b[39m\u001b[38;5;124m'\u001b[39m\u001b[38;5;124mNOC\u001b[39m\u001b[38;5;124m'\u001b[39m, y\u001b[38;5;241m=\u001b[39m\u001b[38;5;124m'\u001b[39m\u001b[38;5;124mmean_medal_count\u001b[39m\u001b[38;5;124m'\u001b[39m, hue\u001b[38;5;241m=\u001b[39m\u001b[38;5;124m'\u001b[39m\u001b[38;5;124mhome_vs_away\u001b[39m\u001b[38;5;124m'\u001b[39m, data\u001b[38;5;241m=\u001b[39m\u001b[43mmean_medal_count_home_vs_all_melt\u001b[49m)\n\u001b[1;32m      6\u001b[0m ax\u001b[38;5;241m.\u001b[39mspines[[\u001b[38;5;124m'\u001b[39m\u001b[38;5;124mtop\u001b[39m\u001b[38;5;124m'\u001b[39m, \u001b[38;5;124m'\u001b[39m\u001b[38;5;124mright\u001b[39m\u001b[38;5;124m'\u001b[39m]]\u001b[38;5;241m.\u001b[39mset_visible(\u001b[38;5;28;01mFalse\u001b[39;00m)\n\u001b[1;32m      7\u001b[0m ax\u001b[38;5;241m.\u001b[39mset_title(\u001b[38;5;124m'\u001b[39m\u001b[38;5;124mTotal mean medal count vs home mean medal count \u001b[39m\u001b[38;5;124m'\u001b[39m)\n",
      "\u001b[0;31mNameError\u001b[0m: name 'mean_medal_count_home_vs_all_melt' is not defined"
     ]
    },
    {
     "data": {
      "text/plain": [
       "<Figure size 1080x720 with 0 Axes>"
      ]
     },
     "metadata": {},
     "output_type": "display_data"
    }
   ],
   "source": [
    "#plot bar graph \n",
    "from matplotlib import pyplot as plt\n",
    "plt.figure(figsize=(15,10))\n",
    "sns.set(style=\"whitegrid\", font_scale = 1.5)\n",
    "sns.barplot(x='NOC', y='mean_medal_count', hue='home_vs_away', data=mean_medal_count_home_vs_all_melt)\n",
    "ax.spines[['top', 'right']].set_visible(False)\n",
    "ax.set_title('Total mean medal count vs home mean medal count ')\n",
    "ax.set_ylabel('Mean medal count')\n",
    "ax.set_xlabel('Country NOC')\n",
    "sns.move_legend(ax, \"upper right\", bbox_to_anchor=(1.0, 1.0), title='Home mean count vs total mean count')\n",
    "\n",
    "\n",
    "#save figure\n",
    "fig = ax.get_figure()\n",
    "fig.savefig(\"Mean_medal_count_per_country_total_vs_home.png\") \n"
   ]
  },
  {
   "cell_type": "code",
   "execution_count": null,
   "id": "68145be2",
   "metadata": {},
   "outputs": [],
   "source": [
    "#plot sum of medals count for each games per NOC\n",
    "\n",
    "display(df_medal_winners)"
   ]
  },
  {
   "cell_type": "code",
   "execution_count": null,
   "id": "c8b67b83",
   "metadata": {},
   "outputs": [],
   "source": [
    "#Filter df into male and female \n",
    "df_male = df[(df.Sex == 1)]\n",
    "df_female = df[(df.Sex == 0)]"
   ]
  },
  {
   "cell_type": "code",
   "execution_count": null,
   "id": "96c009cf",
   "metadata": {},
   "outputs": [],
   "source": [
    "df_male.sort_values('Medal_any',ascending = False)"
   ]
  },
  {
   "cell_type": "code",
   "execution_count": null,
   "id": "a835afbf",
   "metadata": {},
   "outputs": [],
   "source": [
    "#Top 20? male athletes with the most medals \n",
    "male_20 = df_male.groupby(['Name', 'Sex'])[['Medal_any']].sum().sort_values('Medal_any', ascending = False).head(20)\n",
    "male_20 \n",
    "\n"
   ]
  },
  {
   "cell_type": "code",
   "execution_count": null,
   "id": "d07c4c1e",
   "metadata": {},
   "outputs": [],
   "source": [
    "#Top 20? female athletes with the most medals \n",
    "female_20 = df_female.groupby(['Name', 'Sex'])[['Medal_any']].sum().sort_values('Medal_any', ascending = False).head(20)\n",
    "female_20"
   ]
  },
  {
   "cell_type": "code",
   "execution_count": null,
   "id": "99d173f2",
   "metadata": {},
   "outputs": [],
   "source": [
    "#Merge by row \n",
    "top20_f_m = pd.concat([male_20, female_20], axis = 0)\n",
    "top20_f_m"
   ]
  },
  {
   "cell_type": "code",
   "execution_count": null,
   "id": "a9590254",
   "metadata": {},
   "outputs": [],
   "source": [
    "top20_f_m"
   ]
  },
  {
   "cell_type": "code",
   "execution_count": null,
   "id": "bf946f23",
   "metadata": {},
   "outputs": [],
   "source": [
    "#join the 40 athletes from summer or winter games with the overall most medals (20 males and 20 females) with the main dataframe to get the details \n",
    "top20_df = pd.merge(top20_f_m, df, how = 'left', on = ['Name', 'Sex'])\n",
    "top20_df=top20_df.rename(columns = {'Medal_any_x':'Total_medal_count'})\n",
    "top20_df"
   ]
  },
  {
   "cell_type": "code",
   "execution_count": null,
   "id": "6ebedb6a",
   "metadata": {},
   "outputs": [],
   "source": [
    "#medal winners \n",
    "highest_40_scatter = sns.scatterplot(x='Height', y='Total_medal_count', data=top20_df, hue='Sex', ec = None, \n",
    "                alpha = 0.6).set(title='Relationship between athletes age and number of medals won in summer and winter olympic games',\n",
    "ylabel='Total Medals')\n"
   ]
  },
  {
   "cell_type": "code",
   "execution_count": null,
   "id": "bbb895e4",
   "metadata": {},
   "outputs": [],
   "source": [
    "#bargraph \n",
    "p_20 = sns.barplot(x='Name', y='Medal_any', hue='Sex', data=top20_f_m)\n",
    "p_20.spines[['top', 'right']].set_visible(False)\n",
    "p_20.set_title('Total mean medal count vs home mean medal count ')\n",
    "p_20.set_ylabel('Mean medal count')\n",
    "p_20.set_xlabel('Total mean medal count vs home mean medal count')"
   ]
  },
  {
   "cell_type": "markdown",
   "id": "288664b6",
   "metadata": {},
   "source": [
    "Statistical Analysis"
   ]
  },
  {
   "cell_type": "code",
   "execution_count": null,
   "id": "9e245f8f",
   "metadata": {},
   "outputs": [],
   "source": [
    "#correlation \n",
    "#tests \n"
   ]
  },
  {
   "cell_type": "markdown",
   "id": "637a63a4",
   "metadata": {},
   "source": [
    "Modelling"
   ]
  },
  {
   "cell_type": "code",
   "execution_count": null,
   "id": "e4fa2473",
   "metadata": {},
   "outputs": [],
   "source": [
    "# predict how many medals each country will win in summer and winter olympics "
   ]
  },
  {
   "cell_type": "code",
   "execution_count": null,
   "id": "00481f2a",
   "metadata": {},
   "outputs": [],
   "source": [
    "# age or height and chance of winning a medal - binomial model "
   ]
  },
  {
   "cell_type": "code",
   "execution_count": null,
   "id": "65e7d161",
   "metadata": {},
   "outputs": [],
   "source": [
    "#predict how many medals a country will win when held in their home city"
   ]
  }
 ],
 "metadata": {
  "kernelspec": {
   "display_name": "Python 3 (ipykernel)",
   "language": "python",
   "name": "python3"
  },
  "language_info": {
   "codemirror_mode": {
    "name": "ipython",
    "version": 3
   },
   "file_extension": ".py",
   "mimetype": "text/x-python",
   "name": "python",
   "nbconvert_exporter": "python",
   "pygments_lexer": "ipython3",
   "version": "3.9.12"
  }
 },
 "nbformat": 4,
 "nbformat_minor": 5
}
